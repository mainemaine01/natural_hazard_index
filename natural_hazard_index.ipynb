{
 "cells": [
  {
   "cell_type": "markdown",
   "id": "dbb48c55-9f5f-4baf-bab5-a42d98a501dd",
   "metadata": {},
   "source": [
    "## Natural hazard index for any location"
   ]
  },
  {
   "cell_type": "markdown",
   "id": "ac5a24bc-20b7-4605-8f61-858b4b3e5478",
   "metadata": {},
   "source": [
    "Author: Germaine Pötgen"
   ]
  },
  {
   "cell_type": "markdown",
   "id": "f1826f97-421e-4dee-8e56-75c7b4554b58",
   "metadata": {},
   "source": [
    "______________________________________________________________________________________"
   ]
  },
  {
   "cell_type": "markdown",
   "id": "e15773b2-0ebd-4e9a-8383-aab1ea1f1b61",
   "metadata": {},
   "source": [
    "- As of now the dataset for the variable friction is corrupted, so the corresponding code is commented out\n",
    "- Change the region of interest and the normalization reference according to your needs\n",
    "- Comment out index variables you don't want to include in the hazard index"
   ]
  },
  {
   "cell_type": "markdown",
   "id": "686a3c05-eb89-4866-b1cb-6805bfc7a569",
   "metadata": {},
   "source": [
    "### Imports"
   ]
  },
  {
   "cell_type": "code",
   "execution_count": 1,
   "id": "6ec4f0f4-7421-4349-9baa-9c2b14f6a810",
   "metadata": {},
   "outputs": [],
   "source": [
    "import ee\n",
    "import geemap\n",
    "import pandas as pd\n",
    "import geopandas as gpd\n",
    "from shapely.geometry import mapping"
   ]
  },
  {
   "cell_type": "code",
   "execution_count": 2,
   "id": "d270ce1a-0053-436b-88c6-e638aeb5e369",
   "metadata": {},
   "outputs": [
    {
     "data": {
      "text/html": [
       "\n",
       "            <style>\n",
       "                .geemap-dark {\n",
       "                    --jp-widgets-color: white;\n",
       "                    --jp-widgets-label-color: white;\n",
       "                    --jp-ui-font-color1: white;\n",
       "                    --jp-layout-color2: #454545;\n",
       "                    background-color: #383838;\n",
       "                }\n",
       "\n",
       "                .geemap-dark .jupyter-button {\n",
       "                    --jp-layout-color3: #383838;\n",
       "                }\n",
       "\n",
       "                .geemap-colab {\n",
       "                    background-color: var(--colab-primary-surface-color, white);\n",
       "                }\n",
       "\n",
       "                .geemap-colab .jupyter-button {\n",
       "                    --jp-layout-color3: var(--colab-primary-surface-color, white);\n",
       "                }\n",
       "            </style>\n",
       "            "
      ],
      "text/plain": [
       "<IPython.core.display.HTML object>"
      ]
     },
     "metadata": {},
     "output_type": "display_data"
    }
   ],
   "source": [
    "from source import *"
   ]
  },
  {
   "cell_type": "markdown",
   "id": "92a16b5b-2ccc-423a-b646-e3514f1beb51",
   "metadata": {},
   "source": [
    "### Authorize access to Google Earth Engine"
   ]
  },
  {
   "cell_type": "code",
   "execution_count": 3,
   "id": "7837982d-5dc1-47e1-9668-fb9cb038cedb",
   "metadata": {},
   "outputs": [
    {
     "data": {
      "text/html": [
       "\n",
       "            <style>\n",
       "                .geemap-dark {\n",
       "                    --jp-widgets-color: white;\n",
       "                    --jp-widgets-label-color: white;\n",
       "                    --jp-ui-font-color1: white;\n",
       "                    --jp-layout-color2: #454545;\n",
       "                    background-color: #383838;\n",
       "                }\n",
       "\n",
       "                .geemap-dark .jupyter-button {\n",
       "                    --jp-layout-color3: #383838;\n",
       "                }\n",
       "\n",
       "                .geemap-colab {\n",
       "                    background-color: var(--colab-primary-surface-color, white);\n",
       "                }\n",
       "\n",
       "                .geemap-colab .jupyter-button {\n",
       "                    --jp-layout-color3: var(--colab-primary-surface-color, white);\n",
       "                }\n",
       "            </style>\n",
       "            "
      ],
      "text/plain": [
       "<IPython.core.display.HTML object>"
      ]
     },
     "metadata": {},
     "output_type": "display_data"
    }
   ],
   "source": [
    "# ee.Authenticate()"
   ]
  },
  {
   "cell_type": "code",
   "execution_count": 4,
   "id": "20fde4ef-e537-47f3-9904-dbe332148359",
   "metadata": {},
   "outputs": [
    {
     "data": {
      "text/html": [
       "\n",
       "            <style>\n",
       "                .geemap-dark {\n",
       "                    --jp-widgets-color: white;\n",
       "                    --jp-widgets-label-color: white;\n",
       "                    --jp-ui-font-color1: white;\n",
       "                    --jp-layout-color2: #454545;\n",
       "                    background-color: #383838;\n",
       "                }\n",
       "\n",
       "                .geemap-dark .jupyter-button {\n",
       "                    --jp-layout-color3: #383838;\n",
       "                }\n",
       "\n",
       "                .geemap-colab {\n",
       "                    background-color: var(--colab-primary-surface-color, white);\n",
       "                }\n",
       "\n",
       "                .geemap-colab .jupyter-button {\n",
       "                    --jp-layout-color3: var(--colab-primary-surface-color, white);\n",
       "                }\n",
       "            </style>\n",
       "            "
      ],
      "text/plain": [
       "<IPython.core.display.HTML object>"
      ]
     },
     "metadata": {},
     "output_type": "display_data"
    }
   ],
   "source": [
    "ee.Initialize()"
   ]
  },
  {
   "cell_type": "markdown",
   "id": "8f4fcf25-3f31-49c0-937c-41b656aee54f",
   "metadata": {},
   "source": [
    "### Define region of interest"
   ]
  },
  {
   "cell_type": "markdown",
   "id": "20f3877d-3631-4722-98ea-c560cd106bd3",
   "metadata": {},
   "source": [
    "Change the region of interest according to your needs"
   ]
  },
  {
   "cell_type": "markdown",
   "id": "cbfb2407-47ab-43b3-b369-124aacb5109b",
   "metadata": {},
   "source": [
    "##### Create a geometry to use as region of interest"
   ]
  },
  {
   "cell_type": "code",
   "execution_count": 5,
   "id": "34dd0cf0-a119-45c6-9750-47fe8b171f62",
   "metadata": {},
   "outputs": [
    {
     "data": {
      "text/html": [
       "\n",
       "            <style>\n",
       "                .geemap-dark {\n",
       "                    --jp-widgets-color: white;\n",
       "                    --jp-widgets-label-color: white;\n",
       "                    --jp-ui-font-color1: white;\n",
       "                    --jp-layout-color2: #454545;\n",
       "                    background-color: #383838;\n",
       "                }\n",
       "\n",
       "                .geemap-dark .jupyter-button {\n",
       "                    --jp-layout-color3: #383838;\n",
       "                }\n",
       "\n",
       "                .geemap-colab {\n",
       "                    background-color: var(--colab-primary-surface-color, white);\n",
       "                }\n",
       "\n",
       "                .geemap-colab .jupyter-button {\n",
       "                    --jp-layout-color3: var(--colab-primary-surface-color, white);\n",
       "                }\n",
       "            </style>\n",
       "            "
      ],
      "text/plain": [
       "<IPython.core.display.HTML object>"
      ]
     },
     "metadata": {},
     "output_type": "display_data"
    }
   ],
   "source": [
    "vienna_bbox = ee.Geometry.BBox(16.2678922, 48.1195168, 16.5371291, 48.2618604)\n",
    "vienna_point = ee.Geometry.Point(16.363449, 48.210033)\n",
    "vienna_polygon = ee.Geometry.Polygon([\n",
    "    [\n",
    "        [16.1808, 48.3236],  \n",
    "        [16.3841, 48.3261],  \n",
    "        [16.5761, 48.3090],  \n",
    "        [16.5796, 48.2493],  \n",
    "        [16.5110, 48.1404], \n",
    "        [16.3073, 48.0837],  \n",
    "        [16.2257, 48.1304],  \n",
    "        [16.1808, 48.3236]  \n",
    "    ]\n",
    "])"
   ]
  },
  {
   "cell_type": "markdown",
   "id": "31afcb11-32c7-4c97-b3e6-ac7d9afedd5c",
   "metadata": {},
   "source": [
    "##### Upload a geojson to use as region of interest"
   ]
  },
  {
   "cell_type": "code",
   "execution_count": 6,
   "id": "d186d1b1-f723-446d-82b2-8b89884b9dc8",
   "metadata": {},
   "outputs": [
    {
     "data": {
      "text/html": [
       "\n",
       "            <style>\n",
       "                .geemap-dark {\n",
       "                    --jp-widgets-color: white;\n",
       "                    --jp-widgets-label-color: white;\n",
       "                    --jp-ui-font-color1: white;\n",
       "                    --jp-layout-color2: #454545;\n",
       "                    background-color: #383838;\n",
       "                }\n",
       "\n",
       "                .geemap-dark .jupyter-button {\n",
       "                    --jp-layout-color3: #383838;\n",
       "                }\n",
       "\n",
       "                .geemap-colab {\n",
       "                    background-color: var(--colab-primary-surface-color, white);\n",
       "                }\n",
       "\n",
       "                .geemap-colab .jupyter-button {\n",
       "                    --jp-layout-color3: var(--colab-primary-surface-color, white);\n",
       "                }\n",
       "            </style>\n",
       "            "
      ],
      "text/plain": [
       "<IPython.core.display.HTML object>"
      ]
     },
     "metadata": {},
     "output_type": "display_data"
    }
   ],
   "source": [
    "# Define path to JSON file\n",
    "region_path = r'C:\\Users\\germa\\Dokumente\\MasterGeographie\\4_Semester\\SE_Konversatorium\\Notebooks\\LANDESGRENZEOGD.json'\n",
    "\n",
    "# Convert GeoJSON to Earth Engine object\n",
    "region_ee_object = geemap.geojson_to_ee(region_path)\n",
    "\n",
    "# Get geometry of GEE object\n",
    "region_gee_geometry_json = region_ee_object.geometry()"
   ]
  },
  {
   "cell_type": "markdown",
   "id": "e7041670-1646-4a4e-b663-88c9b6895b1a",
   "metadata": {},
   "source": [
    "##### Upload a shapefile to use as region of interest"
   ]
  },
  {
   "cell_type": "code",
   "execution_count": 7,
   "id": "92530d84-5362-45c6-b07f-9231048e2a5a",
   "metadata": {},
   "outputs": [
    {
     "data": {
      "text/html": [
       "\n",
       "            <style>\n",
       "                .geemap-dark {\n",
       "                    --jp-widgets-color: white;\n",
       "                    --jp-widgets-label-color: white;\n",
       "                    --jp-ui-font-color1: white;\n",
       "                    --jp-layout-color2: #454545;\n",
       "                    background-color: #383838;\n",
       "                }\n",
       "\n",
       "                .geemap-dark .jupyter-button {\n",
       "                    --jp-layout-color3: #383838;\n",
       "                }\n",
       "\n",
       "                .geemap-colab {\n",
       "                    background-color: var(--colab-primary-surface-color, white);\n",
       "                }\n",
       "\n",
       "                .geemap-colab .jupyter-button {\n",
       "                    --jp-layout-color3: var(--colab-primary-surface-color, white);\n",
       "                }\n",
       "            </style>\n",
       "            "
      ],
      "text/plain": [
       "<IPython.core.display.HTML object>"
      ]
     },
     "metadata": {},
     "output_type": "display_data"
    }
   ],
   "source": [
    "# Load shapefile as geodataframe\n",
    "region_gdf = gpd.read_file(r'C:\\Users\\germa\\Dokumente\\MasterGeographie\\4_Semester\\SE_Konversatorium\\Notebooks\\LANDESGRENZEOGD\\LANDESGRENZEOGDPolygon.shp')\n",
    "\n",
    "# Define function to convert shapefile geometry to GEE geometry\n",
    "def shp_to_ee_geom(shp_geom):\n",
    "    geojson = mapping(shp_geom) \n",
    "    return ee.Geometry(geojson)\n",
    "\n",
    "# Extract the first row's geometry from the geodataframe, adjust as needed\n",
    "region_geometry = region_gdf.loc[0, 'geometry']\n",
    "\n",
    "# Convert shapefile polygon to GEE geometry\n",
    "region_gee_geometry_shp = shp_to_ee_geom(region_geometry)"
   ]
  },
  {
   "cell_type": "markdown",
   "id": "3e775f8b-60aa-4f1c-9c77-aee30ad4eb8c",
   "metadata": {},
   "source": [
    "##### Visualize region of interest on map"
   ]
  },
  {
   "cell_type": "code",
   "execution_count": 8,
   "id": "5cc93174-ade3-4bfa-a939-7458d94bd282",
   "metadata": {},
   "outputs": [
    {
     "data": {
      "text/html": [
       "\n",
       "            <style>\n",
       "                .geemap-dark {\n",
       "                    --jp-widgets-color: white;\n",
       "                    --jp-widgets-label-color: white;\n",
       "                    --jp-ui-font-color1: white;\n",
       "                    --jp-layout-color2: #454545;\n",
       "                    background-color: #383838;\n",
       "                }\n",
       "\n",
       "                .geemap-dark .jupyter-button {\n",
       "                    --jp-layout-color3: #383838;\n",
       "                }\n",
       "\n",
       "                .geemap-colab {\n",
       "                    background-color: var(--colab-primary-surface-color, white);\n",
       "                }\n",
       "\n",
       "                .geemap-colab .jupyter-button {\n",
       "                    --jp-layout-color3: var(--colab-primary-surface-color, white);\n",
       "                }\n",
       "            </style>\n",
       "            "
      ],
      "text/plain": [
       "<IPython.core.display.HTML object>"
      ]
     },
     "metadata": {},
     "output_type": "display_data"
    },
    {
     "data": {
      "application/vnd.jupyter.widget-view+json": {
       "model_id": "d7de8f1b2af64954bc4b79e19b389dc7",
       "version_major": 2,
       "version_minor": 0
      },
      "text/plain": [
       "Map(center=[0, 0], controls=(WidgetControl(options=['position', 'transparent_bg'], widget=SearchDataGUI(childr…"
      ]
     },
     "execution_count": 8,
     "metadata": {},
     "output_type": "execute_result"
    }
   ],
   "source": [
    "Map = geemap.Map()\n",
    "Map.addLayer(region_gee_geometry_shp, {'color': 'red'}, 'Vienna Polygon')\n",
    "Map.centerObject(region_gee_geometry_shp)\n",
    "Map"
   ]
  },
  {
   "cell_type": "markdown",
   "id": "991e7042-34a8-4ba2-9542-bcb7430902a3",
   "metadata": {},
   "source": [
    "### Define normalization reference"
   ]
  },
  {
   "cell_type": "markdown",
   "id": "069a032e-28c3-47ef-b4db-18e6fd8b4726",
   "metadata": {},
   "source": [
    "Change the normalization reference according to your needs. Choose from countries in country_names_sorted."
   ]
  },
  {
   "cell_type": "markdown",
   "id": "8641b0cd-54ec-44f5-98a1-9f115ee68c5b",
   "metadata": {},
   "source": [
    "##### Use Global Administrative Unit Layers (GAUL) dataset to get country borders"
   ]
  },
  {
   "cell_type": "markdown",
   "id": "63ffb8ca-0392-456f-a759-ce48202eff2f",
   "metadata": {},
   "source": [
    "https://developers.google.com/earth-engine/datasets/catalog/FAO_GAUL_SIMPLIFIED_500m_2015_level0"
   ]
  },
  {
   "cell_type": "code",
   "execution_count": 9,
   "id": "7b57a771-643c-450e-8af7-72828254921c",
   "metadata": {},
   "outputs": [
    {
     "data": {
      "text/html": [
       "\n",
       "            <style>\n",
       "                .geemap-dark {\n",
       "                    --jp-widgets-color: white;\n",
       "                    --jp-widgets-label-color: white;\n",
       "                    --jp-ui-font-color1: white;\n",
       "                    --jp-layout-color2: #454545;\n",
       "                    background-color: #383838;\n",
       "                }\n",
       "\n",
       "                .geemap-dark .jupyter-button {\n",
       "                    --jp-layout-color3: #383838;\n",
       "                }\n",
       "\n",
       "                .geemap-colab {\n",
       "                    background-color: var(--colab-primary-surface-color, white);\n",
       "                }\n",
       "\n",
       "                .geemap-colab .jupyter-button {\n",
       "                    --jp-layout-color3: var(--colab-primary-surface-color, white);\n",
       "                }\n",
       "            </style>\n",
       "            "
      ],
      "text/plain": [
       "<IPython.core.display.HTML object>"
      ]
     },
     "metadata": {},
     "output_type": "display_data"
    }
   ],
   "source": [
    "# Load GAUL dataset\n",
    "all_countries = ee.FeatureCollection('FAO/GAUL_SIMPLIFIED_500m/2015/level0')"
   ]
  },
  {
   "cell_type": "code",
   "execution_count": 10,
   "id": "6545e9e9-e174-426e-bcd9-52aa8d55e8c8",
   "metadata": {},
   "outputs": [
    {
     "data": {
      "text/html": [
       "\n",
       "            <style>\n",
       "                .geemap-dark {\n",
       "                    --jp-widgets-color: white;\n",
       "                    --jp-widgets-label-color: white;\n",
       "                    --jp-ui-font-color1: white;\n",
       "                    --jp-layout-color2: #454545;\n",
       "                    background-color: #383838;\n",
       "                }\n",
       "\n",
       "                .geemap-dark .jupyter-button {\n",
       "                    --jp-layout-color3: #383838;\n",
       "                }\n",
       "\n",
       "                .geemap-colab {\n",
       "                    background-color: var(--colab-primary-surface-color, white);\n",
       "                }\n",
       "\n",
       "                .geemap-colab .jupyter-button {\n",
       "                    --jp-layout-color3: var(--colab-primary-surface-color, white);\n",
       "                }\n",
       "            </style>\n",
       "            "
      ],
      "text/plain": [
       "<IPython.core.display.HTML object>"
      ]
     },
     "metadata": {},
     "output_type": "display_data"
    },
    {
     "name": "stdout",
     "output_type": "stream",
     "text": [
      "['Abyei', 'Afghanistan', 'Aksai Chin', 'Albania', 'Algeria', 'American Samoa', 'Andorra', 'Angola', 'Anguilla', 'Antarctica', 'Antigua and Barbuda', 'Argentina', 'Armenia', 'Aruba', 'Arunachal Pradesh', 'Ashmore and Cartier Islands', 'Australia', 'Austria', 'Azerbaijan', 'Azores Islands', 'Bahamas', 'Bahrain', 'Baker Island', 'Bangladesh', 'Barbados', 'Bassas da India', 'Belarus', 'Belgium', 'Belize', 'Benin', 'Bermuda', 'Bhutan', 'Bird Island', 'Bolivia', 'Bosnia and Herzegovina', 'Botswana', 'Bouvet Island', 'Brazil', 'British Indian Ocean Territory', 'British Virgin Islands', 'Brunei Darussalam', 'Bulgaria', 'Burkina Faso', 'Burundi', 'Cambodia', 'Cameroon', 'Canada', 'Canada', 'Canada', 'Cape Verde', 'Cayman Islands', 'Central African Republic', 'Chad', 'Chile', 'China', 'China/India', 'Christmas Island', 'Clipperton Island', 'Cocos (Keeling) Islands', 'Colombia', 'Comoros', 'Congo', 'Cook Islands', 'Costa Rica', 'Croatia', 'Cuba', 'Cyprus', 'Czech Republic', \"Côte d'Ivoire\", \"Dem People's Rep of Korea\", 'Democratic Republic of the Congo', 'Denmark', 'Djibouti', 'Dominica', 'Dominican Republic', 'Ecuador', 'Egypt', 'El Salvador', 'Equatorial Guinea', 'Eritrea', 'Estonia', 'Ethiopia', 'Europa Island', 'Falkland Islands (Malvinas)', 'Faroe Islands', 'Fiji', 'Finland', 'France', 'French Guiana', 'French Polynesia', 'French Southern and Antarctic Territories', 'Gabon', 'Gambia', 'Gaza Strip', 'Georgia', 'Germany', 'Ghana', 'Gibraltar', 'Glorioso Island', 'Greece', 'Greenland', 'Grenada', 'Guadeloupe', 'Guam', 'Guatemala', 'Guernsey', 'Guinea', 'Guinea-Bissau', 'Guyana', 'Haiti', \"Hala'ib triangle\", 'Heard Island and McDonald Islands', 'Holy See', 'Honduras', 'Hong Kong', 'Howland Island', 'Hungary', 'Iceland', 'Ilemi triangle', 'India', 'Indonesia', 'Iran  (Islamic Republic of)', 'Iraq', 'Ireland', 'Isle of Man', 'Israel', 'Italy', 'Jamaica', 'Jammu and Kashmir', 'Japan', 'Jarvis Island', 'Jersey', 'Johnston Atoll', 'Jordan', 'Juan de Nova Island', 'Kazakhstan', 'Kenya', 'Kingman Reef', 'Kiribati', 'Kuril islands', 'Kuwait', 'Kyrgyzstan', \"Lao People's Democratic Republic\", 'Latvia', 'Lebanon', 'Lesotho', 'Liberia', 'Libya', 'Liechtenstein', 'Lithuania', 'Luxembourg', \"Ma'tan al-Sarra\", 'Macau', 'Madagascar', 'Madeira Islands', 'Malawi', 'Malaysia', 'Maldives', 'Mali', 'Malta', 'Marshall Islands', 'Martinique', 'Mauritania', 'Mauritius', 'Mayotte', 'Mexico', 'Micronesia (Federated States of)', 'Midway Island', 'Moldova, Republic of', 'Monaco', 'Mongolia', 'Montenegro', 'Montserrat', 'Morocco', 'Mozambique', 'Myanmar', 'Namibia', 'Nauru', 'Navassa Island', 'Nepal', 'Netherlands', 'Netherlands Antilles', 'New Caledonia', 'New Zealand', 'Nicaragua', 'Niger', 'Nigeria', 'Niue', 'Norfolk Island', 'Northern Mariana Islands', 'Norway', 'Oman', 'Pakistan', 'Palau', 'Palmyra Atoll', 'Panama', 'Papua New Guinea', 'Paracel Islands', 'Paraguay', 'Peru', 'Philippines', 'Pitcairn', 'Poland', 'Portugal', 'Puerto Rico', 'Qatar', 'Republic of Korea', 'Romania', 'Russian Federation', 'Rwanda', 'Réunion', 'Saint Helena', 'Saint Kitts and Nevis', 'Saint Lucia', 'Saint Pierre et Miquelon', 'Saint Vincent and the Grenadines', 'Samoa', 'San Marino', 'Sao Tome and Principe', 'Saudi Arabia', 'Scarborough Reef', 'Senegal', 'Senkaku Islands', 'Serbia', 'Seychelles', 'Sierra Leone', 'Singapore', 'Slovakia', 'Slovenia', 'Solomon Islands', 'Somalia', 'South Africa', 'South Georgia and the South Sandwich Islands', 'South Sudan', 'Spain', 'Spratly Islands', 'Sri Lanka', 'Sudan', 'Suriname', 'Svalbard and Jan Mayen Islands', 'Swaziland', 'Sweden', 'Switzerland', 'Syrian Arab Republic', 'Taiwan', 'Tajikistan', 'Thailand', 'The former Yugoslav Republic of Macedonia', 'Timor-Leste', 'Togo', 'Tokelau', 'Tonga', 'Trinidad and Tobago', 'Tromelin Island', 'Tunisia', 'Turkey', 'Turkmenistan', 'Turks and Caicos islands', 'Tuvalu', 'U.K. of Great Britain and Northern Ireland', 'Uganda', 'Ukraine', 'United Arab Emirates', 'United Republic of Tanzania', 'United States Virgin Islands', 'United States of America', 'Uruguay', 'Uzbekistan', 'Vanuatu', 'Venezuela', 'Viet Nam', 'Wake Island', 'Wallis and Futuna', 'West Bank', 'West Bank', 'Western Sahara', 'Yemen', 'Zambia', 'Zimbabwe']\n"
     ]
    }
   ],
   "source": [
    "# Display country names to choose from\n",
    "country_names = all_countries.aggregate_array('ADM0_NAME').getInfo()\n",
    "country_names_sorted = sorted(country_names)\n",
    "\n",
    "print(country_names_sorted)"
   ]
  },
  {
   "cell_type": "code",
   "execution_count": 11,
   "id": "2a2dce74-7b32-4dff-932c-19a86fe6f633",
   "metadata": {},
   "outputs": [
    {
     "data": {
      "text/html": [
       "\n",
       "            <style>\n",
       "                .geemap-dark {\n",
       "                    --jp-widgets-color: white;\n",
       "                    --jp-widgets-label-color: white;\n",
       "                    --jp-ui-font-color1: white;\n",
       "                    --jp-layout-color2: #454545;\n",
       "                    background-color: #383838;\n",
       "                }\n",
       "\n",
       "                .geemap-dark .jupyter-button {\n",
       "                    --jp-layout-color3: #383838;\n",
       "                }\n",
       "\n",
       "                .geemap-colab {\n",
       "                    background-color: var(--colab-primary-surface-color, white);\n",
       "                }\n",
       "\n",
       "                .geemap-colab .jupyter-button {\n",
       "                    --jp-layout-color3: var(--colab-primary-surface-color, white);\n",
       "                }\n",
       "            </style>\n",
       "            "
      ],
      "text/plain": [
       "<IPython.core.display.HTML object>"
      ]
     },
     "metadata": {},
     "output_type": "display_data"
    }
   ],
   "source": [
    "# Define country\n",
    "country_name = \"Austria\"\n",
    "\n",
    "# Filter dataset for specified country\n",
    "country = all_countries.filter(ee.Filter.eq('ADM0_NAME', country_name))"
   ]
  },
  {
   "cell_type": "markdown",
   "id": "9c602b11-415d-4364-a475-2de055cb3c60",
   "metadata": {},
   "source": [
    "##### Create fishnet over specified country"
   ]
  },
  {
   "cell_type": "markdown",
   "id": "304484fb-c7eb-4ae8-a17e-487e7fc93585",
   "metadata": {},
   "source": [
    "Adjust h_interval/v_interval (horizontal/vertical intervals in degrees) or number of rows/cols according to the size of the chosen country to avoid memory errors"
   ]
  },
  {
   "cell_type": "code",
   "execution_count": 12,
   "id": "9484f0ed-e9db-4dd4-a645-f7c8a81ab72b",
   "metadata": {},
   "outputs": [
    {
     "data": {
      "text/html": [
       "\n",
       "            <style>\n",
       "                .geemap-dark {\n",
       "                    --jp-widgets-color: white;\n",
       "                    --jp-widgets-label-color: white;\n",
       "                    --jp-ui-font-color1: white;\n",
       "                    --jp-layout-color2: #454545;\n",
       "                    background-color: #383838;\n",
       "                }\n",
       "\n",
       "                .geemap-dark .jupyter-button {\n",
       "                    --jp-layout-color3: #383838;\n",
       "                }\n",
       "\n",
       "                .geemap-colab {\n",
       "                    background-color: var(--colab-primary-surface-color, white);\n",
       "                }\n",
       "\n",
       "                .geemap-colab .jupyter-button {\n",
       "                    --jp-layout-color3: var(--colab-primary-surface-color, white);\n",
       "                }\n",
       "            </style>\n",
       "            "
      ],
      "text/plain": [
       "<IPython.core.display.HTML object>"
      ]
     },
     "metadata": {},
     "output_type": "display_data"
    }
   ],
   "source": [
    "country_fishnet = geemap.fishnet(country.geometry(), h_interval=0.3, v_interval=0.3, delta=1)\n",
    "# country_fishnet = geemap.fishnet(country.geometry(), rows=50, cols=50, delta=1)\n",
    "\n",
    "# Optional: clip country_fishnet to exact border outlines -> might lead to computation timeout\n",
    "country_fishnet_clip = country_fishnet.map(lambda tile: tile.intersection(country.geometry(), ee.ErrorMargin(1)))"
   ]
  },
  {
   "cell_type": "markdown",
   "id": "3147a752-bdee-49bd-970c-112491376787",
   "metadata": {},
   "source": [
    "##### Visualize normalization reference on map"
   ]
  },
  {
   "cell_type": "code",
   "execution_count": 20,
   "id": "b5e5d44f-8ade-4fb5-8689-6df19a5c7a6d",
   "metadata": {},
   "outputs": [
    {
     "data": {
      "text/html": [
       "\n",
       "            <style>\n",
       "                .geemap-dark {\n",
       "                    --jp-widgets-color: white;\n",
       "                    --jp-widgets-label-color: white;\n",
       "                    --jp-ui-font-color1: white;\n",
       "                    --jp-layout-color2: #454545;\n",
       "                    background-color: #383838;\n",
       "                }\n",
       "\n",
       "                .geemap-dark .jupyter-button {\n",
       "                    --jp-layout-color3: #383838;\n",
       "                }\n",
       "\n",
       "                .geemap-colab {\n",
       "                    background-color: var(--colab-primary-surface-color, white);\n",
       "                }\n",
       "\n",
       "                .geemap-colab .jupyter-button {\n",
       "                    --jp-layout-color3: var(--colab-primary-surface-color, white);\n",
       "                }\n",
       "            </style>\n",
       "            "
      ],
      "text/plain": [
       "<IPython.core.display.HTML object>"
      ]
     },
     "metadata": {},
     "output_type": "display_data"
    },
    {
     "data": {
      "application/vnd.jupyter.widget-view+json": {
       "model_id": "cde41ce465e047ac80199c4bfc7fa064",
       "version_major": 2,
       "version_minor": 0
      },
      "text/plain": [
       "Map(center=[0, 0], controls=(WidgetControl(options=['position', 'transparent_bg'], widget=SearchDataGUI(childr…"
      ]
     },
     "execution_count": 20,
     "metadata": {},
     "output_type": "execute_result"
    }
   ],
   "source": [
    "Map = geemap.Map()\n",
    "Map.addLayer(country_fishnet, {'color': 'red'}, 'Fishnet')\n",
    "Map.centerObject(country_fishnet)\n",
    "Map"
   ]
  },
  {
   "cell_type": "markdown",
   "id": "f4ea2292-6384-4f7e-89aa-0f01dd246f67",
   "metadata": {},
   "source": [
    "### Calculate natural hazard index value for region of interest"
   ]
  },
  {
   "cell_type": "markdown",
   "id": "0e3e39dd-8285-4489-8179-7a7c26e534e2",
   "metadata": {},
   "source": [
    "##### Create list for regions of interest and list for region names"
   ]
  },
  {
   "cell_type": "code",
   "execution_count": 14,
   "id": "c863a6b8-e461-465c-865e-c09358bb328a",
   "metadata": {},
   "outputs": [
    {
     "data": {
      "text/html": [
       "\n",
       "            <style>\n",
       "                .geemap-dark {\n",
       "                    --jp-widgets-color: white;\n",
       "                    --jp-widgets-label-color: white;\n",
       "                    --jp-ui-font-color1: white;\n",
       "                    --jp-layout-color2: #454545;\n",
       "                    background-color: #383838;\n",
       "                }\n",
       "\n",
       "                .geemap-dark .jupyter-button {\n",
       "                    --jp-layout-color3: #383838;\n",
       "                }\n",
       "\n",
       "                .geemap-colab {\n",
       "                    background-color: var(--colab-primary-surface-color, white);\n",
       "                }\n",
       "\n",
       "                .geemap-colab .jupyter-button {\n",
       "                    --jp-layout-color3: var(--colab-primary-surface-color, white);\n",
       "                }\n",
       "            </style>\n",
       "            "
      ],
      "text/plain": [
       "<IPython.core.display.HTML object>"
      ]
     },
     "metadata": {},
     "output_type": "display_data"
    }
   ],
   "source": [
    "region_of_interest_list = [region_gee_geometry_json, region_gee_geometry_shp, vienna_bbox, vienna_polygon, vienna_point]\n",
    "region_of_interest_names_list = ['vienna_json', 'vienna_shp', 'vienna_bbox', 'vienna_polygon', 'vienna_point']"
   ]
  },
  {
   "cell_type": "markdown",
   "id": "bc670c48-0a13-43ff-a79f-043ac2df7b5b",
   "metadata": {},
   "source": [
    "##### Calculate min/max values of all variables for normalization reference"
   ]
  },
  {
   "cell_type": "markdown",
   "id": "05d9852b-418c-43a1-8179-2a256fb01c27",
   "metadata": {},
   "source": [
    "Comment out index variables you don't want to include in the hazard index"
   ]
  },
  {
   "cell_type": "code",
   "execution_count": 15,
   "id": "10bb52c4-02ab-4754-b6f7-53b1ebb598e3",
   "metadata": {},
   "outputs": [
    {
     "data": {
      "text/html": [
       "\n",
       "            <style>\n",
       "                .geemap-dark {\n",
       "                    --jp-widgets-color: white;\n",
       "                    --jp-widgets-label-color: white;\n",
       "                    --jp-ui-font-color1: white;\n",
       "                    --jp-layout-color2: #454545;\n",
       "                    background-color: #383838;\n",
       "                }\n",
       "\n",
       "                .geemap-dark .jupyter-button {\n",
       "                    --jp-layout-color3: #383838;\n",
       "                }\n",
       "\n",
       "                .geemap-colab {\n",
       "                    background-color: var(--colab-primary-surface-color, white);\n",
       "                }\n",
       "\n",
       "                .geemap-colab .jupyter-button {\n",
       "                    --jp-layout-color3: var(--colab-primary-surface-color, white);\n",
       "                }\n",
       "            </style>\n",
       "            "
      ],
      "text/plain": [
       "<IPython.core.display.HTML object>"
      ]
     },
     "metadata": {},
     "output_type": "display_data"
    }
   ],
   "source": [
    "min_values = {}\n",
    "max_values = {}\n",
    "mean_values = {}"
   ]
  },
  {
   "cell_type": "code",
   "execution_count": 16,
   "id": "6e171a53-b1eb-4fc7-92e6-09ddd0469aae",
   "metadata": {},
   "outputs": [
    {
     "data": {
      "text/html": [
       "\n",
       "            <style>\n",
       "                .geemap-dark {\n",
       "                    --jp-widgets-color: white;\n",
       "                    --jp-widgets-label-color: white;\n",
       "                    --jp-ui-font-color1: white;\n",
       "                    --jp-layout-color2: #454545;\n",
       "                    background-color: #383838;\n",
       "                }\n",
       "\n",
       "                .geemap-dark .jupyter-button {\n",
       "                    --jp-layout-color3: #383838;\n",
       "                }\n",
       "\n",
       "                .geemap-colab {\n",
       "                    background-color: var(--colab-primary-surface-color, white);\n",
       "                }\n",
       "\n",
       "                .geemap-colab .jupyter-button {\n",
       "                    --jp-layout-color3: var(--colab-primary-surface-color, white);\n",
       "                }\n",
       "            </style>\n",
       "            "
      ],
      "text/plain": [
       "<IPython.core.display.HTML object>"
      ]
     },
     "metadata": {},
     "output_type": "display_data"
    },
    {
     "name": "stdout",
     "output_type": "stream",
     "text": [
      "Min PDSI: -179.37698412698413, Max PDSI: 57.6468253968254\n",
      "Min precipitation accumulation change: -320.32866253256793, Max precipitation accumulation change: 374.89495741426936\n",
      "Min precipitation cv: 0.06579386392234346, Max precipitation cv: 0.16971386550318923\n",
      "Min maximum precipitation anomaly: 31.961308506273085, Max maximum precipitation anomaly: 273.9893998532068\n",
      "Min surface temperature: 295.70001220703125, Max surface temperature: 311.7363586425781\n",
      "Min temperature anomaly: 1.116546630859375, Max temperature anomaly: 2.349029541015625\n",
      "Min specific humidity: 0.003416921943426132, Max specific humidity: 0.006809286307543516\n",
      "Min flow: 1, Max flow: 23023383\n",
      "Min slope: 0, Max slope: 85.7269515991211\n",
      "Min ssm: 11.87097454071045, Max ssm: 24.642255783081055, Mean ssm: 20.61974480042773\n"
     ]
    }
   ],
   "source": [
    "min_values[\"pdsi\"], max_values[\"pdsi\"] = pdsi_average.min_max(country_fishnet)\n",
    "min_values[\"precip_change\"], max_values[\"precip_change\"] = precipitation_ann_change.min_max(country_fishnet)\n",
    "min_values[\"precip_coeff_variation\"], max_values[\"precip_coeff_variation\"] = precipitation_coefficient_variation.min_max(country_fishnet)\n",
    "min_values[\"precip_anomaly\"], max_values[\"precip_anomaly\"] = precipitation_anomaly.min_max(country_fishnet)\n",
    "min_values[\"surface_temp\"], max_values[\"surface_temp\"] = surface_temperature_max.min_max(country_fishnet)\n",
    "min_values[\"temp_anomaly\"], max_values[\"temp_anomaly\"] = temperature_anomaly.min_max(country_fishnet)\n",
    "min_values[\"humidity\"], max_values[\"humidity\"] = specific_humidity.min_max(country_fishnet)\n",
    "min_values[\"flow\"], max_values[\"flow\"] = flow_accumulation.min_max(country_fishnet)\n",
    "# min_values[\"friction\"], max_values[\"friction\"] = friction.min_max(country_fishnet)\n",
    "min_values[\"slope\"], max_values[\"slope\"] = slope.min_max(country_fishnet)\n",
    "min_values[\"ssm\"], max_values[\"ssm\"], mean_values[\"ssm\"] = surface_soil_moisture.min_max(country_fishnet)"
   ]
  },
  {
   "cell_type": "markdown",
   "id": "bb8b5f5b-d2d2-4d63-9d68-f55045840d5c",
   "metadata": {},
   "source": [
    "##### Calculate normalized variable values for each region of interest"
   ]
  },
  {
   "cell_type": "code",
   "execution_count": 1,
   "id": "c6a8bad3-5358-4dc5-87f1-0b102a265e80",
   "metadata": {},
   "outputs": [],
   "source": [
    "var_1_results = []\n",
    "var_2_results = []\n",
    "var_3_results = []\n",
    "var_4_results = []\n",
    "var_5_results = []\n",
    "var_6_results = []\n",
    "var_7_results = []\n",
    "var_8_results = []\n",
    "var_9_results = []\n",
    "var_10_results = []\n",
    "var_11_results = []\n",
    "\n",
    "for region_of_interest in region_of_interest_list:\n",
    "    var1 = pdsi_average.get_pdsi_region(region_of_interest, min_values[\"pdsi\"], max_values[\"pdsi\"])\n",
    "    var_1_results.append(var1)\n",
    "\n",
    "    var2 = precipitation_ann_change.get_precipitation_change_region(region_of_interest, min_values[\"precip_change\"], max_values[\"precip_change\"])\n",
    "    var_2_results.append(var2)\n",
    "\n",
    "    var3 = precipitation_coefficient_variation.get_precipitation_coefficient_variation_region(region_of_interest, min_values[\"precip_coeff_variation\"], max_values[\"precip_coeff_variation\"])\n",
    "    var_3_results.append(var3)\n",
    "\n",
    "    var4 = precipitation_anomaly.get_precipitation_anomaly_region(region_of_interest, min_values[\"precip_anomaly\"], max_values[\"precip_anomaly\"])\n",
    "    var_4_results.append(var4)\n",
    "\n",
    "    var5 = surface_temperature_max.get_surface_temperature_max_region(region_of_interest, min_values[\"surface_temp\"], max_values[\"surface_temp\"])\n",
    "    var_5_results.append(var5)\n",
    "\n",
    "    var6 = temperature_anomaly.get_temperature_anomaly_region(region_of_interest, min_values[\"temp_anomaly\"], max_values[\"temp_anomaly\"])\n",
    "    var_6_results.append(var6)\n",
    "\n",
    "    var7 = specific_humidity.get_specific_humidity_region(region_of_interest, min_values[\"humidity\"], max_values[\"humidity\"])\n",
    "    var_7_results.append(var7)\n",
    "\n",
    "    var8 = flow_accumulation.get_flow_accumulation_region(region_of_interest, min_values[\"flow\"], max_values[\"flow\"])\n",
    "    var_8_results.append(var8)\n",
    "\n",
    "    # var9 = friction.get_friction_region(region_of_interest, min_values[\"friction\"], max_values[\"friction\"])\n",
    "    # var_9_results.append(var9)\n",
    "\n",
    "    var10 = slope.get_slope_region(region_of_interest, min_values[\"slope\"], max_values[\"slope\"])\n",
    "    var_10_results.append(var10)\n",
    "\n",
    "    var11 = surface_soil_moisture.get_surface_soil_moisture_region(region_of_interest, min_values[\"ssm\"], max_values[\"ssm\"], mean_values[\"ssm\"])\n",
    "    var_11_results.append(var11)"
   ]
  },
  {
   "cell_type": "markdown",
   "id": "b9ace94a-60b7-4d5c-ab29-a2e661291fc5",
   "metadata": {},
   "source": [
    "##### Calculate hazard index values and save results in a csv file"
   ]
  },
  {
   "cell_type": "code",
   "execution_count": 18,
   "id": "5db1ff8c-f2a3-401d-a324-6d1c546a6eac",
   "metadata": {},
   "outputs": [
    {
     "data": {
      "text/html": [
       "\n",
       "            <style>\n",
       "                .geemap-dark {\n",
       "                    --jp-widgets-color: white;\n",
       "                    --jp-widgets-label-color: white;\n",
       "                    --jp-ui-font-color1: white;\n",
       "                    --jp-layout-color2: #454545;\n",
       "                    background-color: #383838;\n",
       "                }\n",
       "\n",
       "                .geemap-dark .jupyter-button {\n",
       "                    --jp-layout-color3: #383838;\n",
       "                }\n",
       "\n",
       "                .geemap-colab {\n",
       "                    background-color: var(--colab-primary-surface-color, white);\n",
       "                }\n",
       "\n",
       "                .geemap-colab .jupyter-button {\n",
       "                    --jp-layout-color3: var(--colab-primary-surface-color, white);\n",
       "                }\n",
       "            </style>\n",
       "            "
      ],
      "text/plain": [
       "<IPython.core.display.HTML object>"
      ]
     },
     "metadata": {},
     "output_type": "display_data"
    },
    {
     "data": {
      "text/html": [
       "<div>\n",
       "<style scoped>\n",
       "    .dataframe tbody tr th:only-of-type {\n",
       "        vertical-align: middle;\n",
       "    }\n",
       "\n",
       "    .dataframe tbody tr th {\n",
       "        vertical-align: top;\n",
       "    }\n",
       "\n",
       "    .dataframe thead th {\n",
       "        text-align: right;\n",
       "    }\n",
       "</style>\n",
       "<table border=\"1\" class=\"dataframe\">\n",
       "  <thead>\n",
       "    <tr style=\"text-align: right;\">\n",
       "      <th></th>\n",
       "      <th>Region of Interest</th>\n",
       "      <th>PDSI average</th>\n",
       "      <th>precipitation change</th>\n",
       "      <th>precipitation coefficient variation</th>\n",
       "      <th>precipitation anomaly</th>\n",
       "      <th>surface temperature max</th>\n",
       "      <th>temperature anomaly</th>\n",
       "      <th>specific humidity</th>\n",
       "      <th>flow accumulation</th>\n",
       "      <th>slope</th>\n",
       "      <th>ssm</th>\n",
       "      <th>hazard index</th>\n",
       "    </tr>\n",
       "  </thead>\n",
       "  <tbody>\n",
       "    <tr>\n",
       "      <th>0</th>\n",
       "      <td>vienna_json</td>\n",
       "      <td>0.573214</td>\n",
       "      <td>0.216158</td>\n",
       "      <td>0.614473</td>\n",
       "      <td>0.097728</td>\n",
       "      <td>0.916131</td>\n",
       "      <td>0.185261</td>\n",
       "      <td>0.230128</td>\n",
       "      <td>0.002525</td>\n",
       "      <td>0.040145</td>\n",
       "      <td>0.754372</td>\n",
       "      <td>0.363014</td>\n",
       "    </tr>\n",
       "    <tr>\n",
       "      <th>1</th>\n",
       "      <td>vienna_shp</td>\n",
       "      <td>0.573214</td>\n",
       "      <td>0.216158</td>\n",
       "      <td>0.614473</td>\n",
       "      <td>0.097728</td>\n",
       "      <td>0.916131</td>\n",
       "      <td>0.185261</td>\n",
       "      <td>0.230128</td>\n",
       "      <td>0.002525</td>\n",
       "      <td>0.040145</td>\n",
       "      <td>0.754372</td>\n",
       "      <td>0.363014</td>\n",
       "    </tr>\n",
       "    <tr>\n",
       "      <th>2</th>\n",
       "      <td>vienna_bbox</td>\n",
       "      <td>0.569944</td>\n",
       "      <td>0.217533</td>\n",
       "      <td>0.597059</td>\n",
       "      <td>0.085973</td>\n",
       "      <td>0.923608</td>\n",
       "      <td>0.190241</td>\n",
       "      <td>0.221169</td>\n",
       "      <td>0.002869</td>\n",
       "      <td>0.026872</td>\n",
       "      <td>0.780789</td>\n",
       "      <td>0.361606</td>\n",
       "    </tr>\n",
       "    <tr>\n",
       "      <th>3</th>\n",
       "      <td>vienna_polygon</td>\n",
       "      <td>0.575141</td>\n",
       "      <td>0.214623</td>\n",
       "      <td>0.620931</td>\n",
       "      <td>0.100739</td>\n",
       "      <td>0.918013</td>\n",
       "      <td>0.174150</td>\n",
       "      <td>0.232417</td>\n",
       "      <td>0.001927</td>\n",
       "      <td>0.044754</td>\n",
       "      <td>0.747386</td>\n",
       "      <td>0.363008</td>\n",
       "    </tr>\n",
       "    <tr>\n",
       "      <th>4</th>\n",
       "      <td>vienna_point</td>\n",
       "      <td>0.579519</td>\n",
       "      <td>0.230145</td>\n",
       "      <td>0.605463</td>\n",
       "      <td>0.088911</td>\n",
       "      <td>0.916099</td>\n",
       "      <td>0.197593</td>\n",
       "      <td>0.231797</td>\n",
       "      <td>0.000000</td>\n",
       "      <td>0.018821</td>\n",
       "      <td>0.802659</td>\n",
       "      <td>0.367101</td>\n",
       "    </tr>\n",
       "  </tbody>\n",
       "</table>\n",
       "</div>"
      ],
      "text/plain": [
       "  Region of Interest  PDSI average  precipitation change  \\\n",
       "0        vienna_json      0.573214              0.216158   \n",
       "1         vienna_shp      0.573214              0.216158   \n",
       "2        vienna_bbox      0.569944              0.217533   \n",
       "3     vienna_polygon      0.575141              0.214623   \n",
       "4       vienna_point      0.579519              0.230145   \n",
       "\n",
       "   precipitation coefficient variation  precipitation anomaly  \\\n",
       "0                             0.614473               0.097728   \n",
       "1                             0.614473               0.097728   \n",
       "2                             0.597059               0.085973   \n",
       "3                             0.620931               0.100739   \n",
       "4                             0.605463               0.088911   \n",
       "\n",
       "   surface temperature max  temperature anomaly  specific humidity  \\\n",
       "0                 0.916131             0.185261           0.230128   \n",
       "1                 0.916131             0.185261           0.230128   \n",
       "2                 0.923608             0.190241           0.221169   \n",
       "3                 0.918013             0.174150           0.232417   \n",
       "4                 0.916099             0.197593           0.231797   \n",
       "\n",
       "   flow accumulation     slope       ssm  hazard index  \n",
       "0           0.002525  0.040145  0.754372      0.363014  \n",
       "1           0.002525  0.040145  0.754372      0.363014  \n",
       "2           0.002869  0.026872  0.780789      0.361606  \n",
       "3           0.001927  0.044754  0.747386      0.363008  \n",
       "4           0.000000  0.018821  0.802659      0.367101  "
      ]
     },
     "execution_count": 18,
     "metadata": {},
     "output_type": "execute_result"
    }
   ],
   "source": [
    "data = {\n",
    "    \"Region of Interest\": region_of_interest_names_list,\n",
    "    \"PDSI average\": var_1_results,\n",
    "    \"precipitation change\": var_2_results,\n",
    "    \"precipitation coefficient variation\": var_3_results,\n",
    "    \"precipitation anomaly\": var_4_results,\n",
    "    \"surface temperature max\": var_5_results,\n",
    "    \"temperature anomaly\": var_6_results,\n",
    "    \"specific humidity\": var_7_results,\n",
    "    \"flow accumulation\": var_8_results,\n",
    "    #\"friction\": var_9_results,\n",
    "    \"slope\": var_10_results,\n",
    "    \"ssm\": var_11_results,\n",
    "}\n",
    "\n",
    "df = pd.DataFrame(data)\n",
    "\n",
    "df[\"hazard index\"] = df[[\n",
    "    \"PDSI average\", \"precipitation change\", \"precipitation coefficient variation\",\n",
    "    \"precipitation anomaly\", \"surface temperature max\", \"temperature anomaly\",\n",
    "    \"specific humidity\", \"flow accumulation\", #\"friction\",\n",
    "    \"slope\", \"ssm\"\n",
    "]].mean(axis=1)\n",
    "\n",
    "df"
   ]
  },
  {
   "cell_type": "code",
   "execution_count": 19,
   "id": "9b823e9d-994f-446f-b89b-d46c3d7c6054",
   "metadata": {},
   "outputs": [
    {
     "data": {
      "text/html": [
       "\n",
       "            <style>\n",
       "                .geemap-dark {\n",
       "                    --jp-widgets-color: white;\n",
       "                    --jp-widgets-label-color: white;\n",
       "                    --jp-ui-font-color1: white;\n",
       "                    --jp-layout-color2: #454545;\n",
       "                    background-color: #383838;\n",
       "                }\n",
       "\n",
       "                .geemap-dark .jupyter-button {\n",
       "                    --jp-layout-color3: #383838;\n",
       "                }\n",
       "\n",
       "                .geemap-colab {\n",
       "                    background-color: var(--colab-primary-surface-color, white);\n",
       "                }\n",
       "\n",
       "                .geemap-colab .jupyter-button {\n",
       "                    --jp-layout-color3: var(--colab-primary-surface-color, white);\n",
       "                }\n",
       "            </style>\n",
       "            "
      ],
      "text/plain": [
       "<IPython.core.display.HTML object>"
      ]
     },
     "metadata": {},
     "output_type": "display_data"
    }
   ],
   "source": [
    "# Save the DataFrame as a csv file\n",
    "df.to_csv('index_results.csv')"
   ]
  },
  {
   "cell_type": "code",
   "execution_count": null,
   "id": "942b5e46-5c65-4f6d-9ab0-6edb7ee7609a",
   "metadata": {},
   "outputs": [],
   "source": []
  }
 ],
 "metadata": {
  "kernelspec": {
   "display_name": "Python 3 (ipykernel)",
   "language": "python",
   "name": "python3"
  },
  "language_info": {
   "codemirror_mode": {
    "name": "ipython",
    "version": 3
   },
   "file_extension": ".py",
   "mimetype": "text/x-python",
   "name": "python",
   "nbconvert_exporter": "python",
   "pygments_lexer": "ipython3",
   "version": "3.12.2"
  }
 },
 "nbformat": 4,
 "nbformat_minor": 5
}
